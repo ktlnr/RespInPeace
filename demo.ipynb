{
 "cells": [
  {
   "cell_type": "markdown",
   "metadata": {},
   "source": [
    "# RespInPeace: Toolkit for precessing breathing belt (RIP) data"
   ]
  },
  {
   "cell_type": "code",
   "execution_count": null,
   "metadata": {
    "collapsed": false
   },
   "outputs": [],
   "source": [
    "import datetime\n",
    "import matplotlib.pyplot as plt\n",
    "\n",
    "# Silence FutureWarnings\n",
    "import warnings\n",
    "warnings.simplefilter(action='ignore', category=FutureWarning)\n",
    "\n",
    "%matplotlib inline"
   ]
  },
  {
   "cell_type": "markdown",
   "metadata": {},
   "source": [
    "## Data loading"
   ]
  },
  {
   "cell_type": "markdown",
   "metadata": {},
   "source": [
    "Load data from a WAV file and plot the respiratory signal:"
   ]
  },
  {
   "cell_type": "code",
   "execution_count": null,
   "metadata": {
    "collapsed": false
   },
   "outputs": [],
   "source": [
    "import rip\n",
    "\n",
    "resp = rip.RIP('rip_data.wav')\n",
    "\n",
    "print('''Sampling frequency: {}\n",
    "Number of samples: {}\n",
    "Duration: {}'''.format(resp.samp_freq, len(resp.resp), datetime.timedelta(seconds=resp.dur)))"
   ]
  },
  {
   "cell_type": "code",
   "execution_count": null,
   "metadata": {
    "collapsed": false
   },
   "outputs": [],
   "source": [
    "plt.plot(resp.t / 60, resp.resp)"
   ]
  },
  {
   "cell_type": "markdown",
   "metadata": {},
   "source": [
    "## Resampling"
   ]
  },
  {
   "cell_type": "markdown",
   "metadata": {},
   "source": [
    "Resampling is done simply with the `resample` method."
   ]
  },
  {
   "cell_type": "code",
   "execution_count": null,
   "metadata": {
    "collapsed": false
   },
   "outputs": [],
   "source": [
    "resp.resample(100)"
   ]
  },
  {
   "cell_type": "code",
   "execution_count": null,
   "metadata": {
    "collapsed": false
   },
   "outputs": [],
   "source": [
    "print(\"\"\"Sampling frequency: {}\n",
    "Number of samples: {}\"\"\".format(resp.samp_freq, len(resp.resp)))"
   ]
  },
  {
   "cell_type": "code",
   "execution_count": null,
   "metadata": {
    "collapsed": false
   },
   "outputs": [],
   "source": [
    "plt.plot(resp.resp)"
   ]
  },
  {
   "cell_type": "markdown",
   "metadata": {},
   "source": [
    "# Detrending and drift removal"
   ]
  },
  {
   "cell_type": "markdown",
   "metadata": {},
   "source": [
    "**RespInPeace** implements several detrending methods:\n",
    "- Subracting the mean with `detrend(type='constant')`\n",
    "- Removal of linear trend with `detrend(type='linear')`\n",
    "- Removal with low-frequency baseline oscilation.\n",
    "\n",
    "Below we demonstrate the last of these methods:"
   ]
  },
  {
   "cell_type": "code",
   "execution_count": null,
   "metadata": {
    "collapsed": false
   },
   "outputs": [],
   "source": [
    "resp.remove_baseline()\n",
    "plt.plot(resp.resp)"
   ]
  },
  {
   "cell_type": "markdown",
   "metadata": {},
   "source": [
    "## Signal segmentation"
   ]
  },
  {
   "cell_type": "markdown",
   "metadata": {},
   "source": [
    "Identify inhalation and exhalation onsets"
   ]
  },
  {
   "cell_type": "code",
   "execution_count": null,
   "metadata": {
    "collapsed": false,
    "scrolled": false
   },
   "outputs": [],
   "source": [
    "resp.find_cycles()"
   ]
  },
  {
   "cell_type": "markdown",
   "metadata": {},
   "source": [
    "Internally, inhalations, exhalations and respiratory cycles are stored as two-dimensional numpy arrays."
   ]
  },
  {
   "cell_type": "code",
   "execution_count": null,
   "metadata": {
    "collapsed": false
   },
   "outputs": [],
   "source": [
    "resp.inhalations[:10, :]"
   ]
  },
  {
   "cell_type": "code",
   "execution_count": null,
   "metadata": {
    "collapsed": false
   },
   "outputs": [],
   "source": [
    "resp.exhalations[:10, :]"
   ]
  },
  {
   "cell_type": "code",
   "execution_count": null,
   "metadata": {
    "collapsed": false
   },
   "outputs": [],
   "source": [
    "resp.cycles[:10, :]"
   ]
  },
  {
   "cell_type": "markdown",
   "metadata": {},
   "source": [
    "Here is a plot showing the first couple of cycles."
   ]
  },
  {
   "cell_type": "code",
   "execution_count": null,
   "metadata": {
    "collapsed": false
   },
   "outputs": [],
   "source": [
    "plt.plot(resp.t, resp.resp, color='lightgrey')\n",
    "plt.plot(resp.t[resp.inhalations[:, 0]], resp.resp[resp.inhalations[:, 0]],\n",
    "         linestyle='none', marker='o')\n",
    "plt.plot(resp.t[resp.exhalations[:, 0]], resp.resp[resp.exhalations[:, 0]],\n",
    "         linestyle='none', marker='o')\n",
    "plt.xlim(0,  1e4 /  resp.samp_freq)"
   ]
  },
  {
   "cell_type": "markdown",
   "metadata": {},
   "source": [
    "Given this representations, calculating durational features is extremely easy. For instance, below  we calculate and plot the distribution of inhalation durations:"
   ]
  },
  {
   "cell_type": "code",
   "execution_count": null,
   "metadata": {
    "collapsed": false
   },
   "outputs": [],
   "source": [
    "inh_durs = resp.inhalations[:, 1] - resp.inhalations[:, 0]\n",
    "_ = plt.hist(inh_durs / 60, bins=20)"
   ]
  },
  {
   "cell_type": "markdown",
   "metadata": {},
   "source": [
    "We can also plot them:"
   ]
  },
  {
   "cell_type": "markdown",
   "metadata": {},
   "source": [
    "## Range estimation"
   ]
  },
  {
   "cell_type": "code",
   "execution_count": null,
   "metadata": {
    "collapsed": false
   },
   "outputs": [],
   "source": [
    "resp.estimate_range()\n",
    "\n",
    "plt.plot(resp.resp, color='lightgrey')\n",
    "plt.axhline(resp.range_bot, linestyle='dashed')\n",
    "plt.axhline(resp.range_top, linestyle='dashed')"
   ]
  },
  {
   "cell_type": "markdown",
   "metadata": {},
   "source": [
    "## REL estimation"
   ]
  },
  {
   "cell_type": "markdown",
   "metadata": {},
   "source": [
    "Resting expiratory level(REL) is the state of equilibrium when the expiratory elasticity forces equal the the inhalatory elasticity forces. It also the point within the total lung capacity where speakers are most likely to inhale as speaking at lung volumes below REL is generally felt to be quite uncomfortable.\n",
    "\n",
    "REL is quite sensitive to posture shifts and if the subject did not stand perfectly still, might fluctuate in the course of a recording. In order to neutralize the effect this drift, REL needs to be estimated in a more dynamic way. RestInPeace estimates REL by as the median signal level at respiratory troughs in the preceding interval of specified duration (??? by default)."
   ]
  },
  {
   "cell_type": "code",
   "execution_count": null,
   "metadata": {
    "collapsed": false
   },
   "outputs": [],
   "source": [
    "resp.estimate_rel(20)"
   ]
  },
  {
   "cell_type": "code",
   "execution_count": null,
   "metadata": {
    "collapsed": false
   },
   "outputs": [],
   "source": [
    "plt.plot(resp.resp, color='lightgrey')\n",
    "plt.plot(resp.inhalations[:, 0], resp.rel)"
   ]
  },
  {
   "cell_type": "code",
   "execution_count": null,
   "metadata": {
    "collapsed": false
   },
   "outputs": [],
   "source": [
    "plt.plot(resp.resp, color='lightgrey')\n",
    "plt.plot(resp.inhalations[:, 0], resp.rel)\n",
    "plt.xlim(0, 1e4)"
   ]
  }
 ],
 "metadata": {
  "kernelspec": {
   "display_name": "Python 3",
   "language": "python",
   "name": "python3"
  },
  "language_info": {
   "codemirror_mode": {
    "name": "ipython",
    "version": 3
   },
   "file_extension": ".py",
   "mimetype": "text/x-python",
   "name": "python",
   "nbconvert_exporter": "python",
   "pygments_lexer": "ipython3",
   "version": "3.5.3"
  }
 },
 "nbformat": 4,
 "nbformat_minor": 2
}
