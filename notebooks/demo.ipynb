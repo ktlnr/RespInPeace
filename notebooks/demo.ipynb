{
 "cells": [
  {
   "cell_type": "markdown",
   "metadata": {},
   "source": [
    "# RespInPeace: Toolkit for precessing breathing belt (RIP) data"
   ]
  },
  {
   "cell_type": "code",
   "execution_count": null,
   "metadata": {},
   "outputs": [],
   "source": [
    "import datetime\n",
    "import matplotlib.pyplot as plt\n",
    "import peakutils\n",
    "\n",
    "# Silence FutureWarnings\n",
    "import warnings\n",
    "warnings.simplefilter(action='ignore', category=FutureWarning)\n",
    "\n",
    "%matplotlib inline"
   ]
  },
  {
   "cell_type": "markdown",
   "metadata": {},
   "source": [
    "## Data loading"
   ]
  },
  {
   "cell_type": "markdown",
   "metadata": {},
   "source": [
    "Load data from a WAV file and plot the respiratory signal:"
   ]
  },
  {
   "cell_type": "code",
   "execution_count": null,
   "metadata": {},
   "outputs": [],
   "source": [
    "from rip import Resp\n",
    "\n",
    "resp = Resp.from_wav('resp.wav')\n",
    "\n",
    "print('''Sampling frequency: {}\n",
    "Number of samples: {}\n",
    "Duration: {}'''.format(resp.samp_freq, len(resp.samples), datetime.timedelta(seconds=resp.dur)))"
   ]
  },
  {
   "cell_type": "markdown",
   "metadata": {},
   "source": [
    "In addition, reading the respiratory data from a CSV file listing is also supported using the `from_csv` constructor. See the documentation for how to use it.\n",
    "\n",
    "While **RespInPeace** provides ways to automatically identify inhalations and exhalations in the respiratory signal, it is also possible to use one's own respiratory segmentation by specifying the `cycles` argument. See the documentation for details."
   ]
  },
  {
   "cell_type": "markdown",
   "metadata": {},
   "source": [
    "## Iteration, indexing and slicing"
   ]
  },
  {
   "cell_type": "markdown",
   "metadata": {},
   "source": [
    "Time stamp and respiratory values are stored in `t` and `resp` attributes, respectively:"
   ]
  },
  {
   "cell_type": "code",
   "execution_count": null,
   "metadata": {},
   "outputs": [],
   "source": [
    "resp.t[:5], resp.samples[:5]"
   ]
  },
  {
   "cell_type": "code",
   "execution_count": null,
   "metadata": {},
   "outputs": [],
   "source": [
    "plt.plot(resp.t / 60, resp.samples)"
   ]
  },
  {
   "cell_type": "markdown",
   "metadata": {},
   "source": [
    "RIP objects can be indexed and sliced both by sample and time indices:"
   ]
  },
  {
   "cell_type": "code",
   "execution_count": null,
   "metadata": {},
   "outputs": [],
   "source": [
    "resp[10:20:2]"
   ]
  },
  {
   "cell_type": "code",
   "execution_count": null,
   "metadata": {},
   "outputs": [],
   "source": [
    "resp.idt[0.05:0.1:0.01]"
   ]
  },
  {
   "cell_type": "markdown",
   "metadata": {},
   "source": [
    "They can also be used as iterators:"
   ]
  },
  {
   "cell_type": "code",
   "execution_count": null,
   "metadata": {},
   "outputs": [],
   "source": [
    "for i, samp in enumerate(resp):\n",
    "    if i > 10:\n",
    "        break\n",
    "    print(i, samp)"
   ]
  },
  {
   "cell_type": "markdown",
   "metadata": {},
   "source": [
    "# Detrending and drift removal"
   ]
  },
  {
   "cell_type": "markdown",
   "metadata": {},
   "source": [
    "**RespInPeace** implements several detrending methods:\n",
    "- Subracting the mean with `detrend(type='constant')`\n",
    "- Removal of linear trend with `detrend(type='linear')`\n",
    "- Removal with low-frequency baseline oscilation using a square window (`remove_basline_square`), a Savitzky-Golay filter (`remove_baseline_savgol` or Asymmetric Least Squares Smoothing (`remove_baseline_als`).\n",
    "\n",
    "Below we demonstrate the last of these methods:"
   ]
  },
  {
   "cell_type": "code",
   "execution_count": null,
   "metadata": {},
   "outputs": [],
   "source": [
    "resp.remove_baseline_als()\n",
    "plt.plot(resp.samples)"
   ]
  },
  {
   "cell_type": "markdown",
   "metadata": {},
   "source": [
    "In addition to these generic drift removal methods, RestInPeace also implements baseline detection based on dynamic estimation of REL (see below)."
   ]
  },
  {
   "cell_type": "markdown",
   "metadata": {},
   "source": [
    "## Signal segmentation"
   ]
  },
  {
   "cell_type": "markdown",
   "metadata": {},
   "source": [
    "### Detection of inhalations and exhalations"
   ]
  },
  {
   "cell_type": "markdown",
   "metadata": {},
   "source": [
    "Inhalations and exhalations can be identified using the `find_cycles` method:"
   ]
  },
  {
   "cell_type": "code",
   "execution_count": null,
   "metadata": {
    "scrolled": false
   },
   "outputs": [],
   "source": [
    "resp.find_cycles(include_holds=False)"
   ]
  },
  {
   "cell_type": "code",
   "execution_count": null,
   "metadata": {},
   "outputs": [],
   "source": [
    "type(resp.segments)"
   ]
  },
  {
   "cell_type": "code",
   "execution_count": null,
   "metadata": {},
   "outputs": [],
   "source": [
    "resp.segments[:10]"
   ]
  },
  {
   "cell_type": "markdown",
   "metadata": {},
   "source": [
    "It is also possible to access inhalations and exhalations, separately:"
   ]
  },
  {
   "cell_type": "code",
   "execution_count": null,
   "metadata": {},
   "outputs": [],
   "source": [
    "resp.inhalations[:5]"
   ]
  },
  {
   "cell_type": "code",
   "execution_count": null,
   "metadata": {},
   "outputs": [],
   "source": [
    "resp.exhalations[:5]"
   ]
  },
  {
   "cell_type": "markdown",
   "metadata": {},
   "source": [
    "Finally, we can extract peak and trough times, stored in numpy arrays:"
   ]
  },
  {
   "cell_type": "code",
   "execution_count": null,
   "metadata": {},
   "outputs": [],
   "source": [
    "resp.peaks[:5]"
   ]
  },
  {
   "cell_type": "code",
   "execution_count": null,
   "metadata": {},
   "outputs": [],
   "source": [
    "resp.troughs[:5]"
   ]
  },
  {
   "cell_type": "markdown",
   "metadata": {},
   "source": [
    "Here is a plot showing the first couple of cycles."
   ]
  },
  {
   "cell_type": "code",
   "execution_count": null,
   "metadata": {},
   "outputs": [],
   "source": [
    "plt.plot(resp.t, resp.samples, color='lightgrey')\n",
    "plt.plot(resp.peaks, resp.idt[resp.peaks],\n",
    "         linestyle='none', marker='o')\n",
    "plt.plot(resp.troughs, resp.idt[resp.troughs],\n",
    "         linestyle='none', marker='o')\n",
    "plt.xlim(0,  1e4 /  resp.samp_freq)"
   ]
  },
  {
   "cell_type": "markdown",
   "metadata": {},
   "source": [
    "Given this representations, calculating durational features is extremely easy. For instance, below  we calculate and plot the distribution of inhalation durations:"
   ]
  },
  {
   "cell_type": "code",
   "execution_count": null,
   "metadata": {},
   "outputs": [],
   "source": [
    "inh_durs = [i.duration() for i in resp.inhalations]"
   ]
  },
  {
   "cell_type": "markdown",
   "metadata": {},
   "source": [
    "We can also visualise them:"
   ]
  },
  {
   "cell_type": "code",
   "execution_count": null,
   "metadata": {},
   "outputs": [],
   "source": [
    "_ = plt.hist(inh_durs, bins=20)"
   ]
  },
  {
   "cell_type": "markdown",
   "metadata": {},
   "source": [
    "### Hold detection"
   ]
  },
  {
   "cell_type": "markdown",
   "metadata": {},
   "source": [
    "Hold detection follows an adapted version of the method implemented in [Breathmetrics](https://github.com/zelanolab/breathmetrics): For each respiratory segment (inhalation and exhalation) we construct a histogram of respiratory values. Since respiratory holds result is speakers staying at the same lung volume for a while, they are identified as peaks in the histogram.\n",
    "\n",
    "The specifics of hold detection can be controlled arguments passed to the `find_holds` method:\n",
    "* `bins` (default: 100) - the number of bins used to construct the histogram.\n",
    "* `peak_prominence` (default 0.05) - the minimal peak prominence (as returned by [`scipy.signal.peak_prominences`](https://docs.scipy.org/doc/scipy/reference/generated/scipy.signal.peak_prominences.html)) corresponding to a respiratory hold.\n",
    "* `min_hold_gap` (default: 0.15) - neighbouring holds separated by a gap shorter than this value will be merged.\n",
    "* `min_hold_dur` (default: 0.25 s) - holds shorter than this value will be omitted. Note that this criterion is applied after merging of neighbouring holds using the value of `min_hold_gap` above."
   ]
  },
  {
   "cell_type": "code",
   "execution_count": null,
   "metadata": {},
   "outputs": [],
   "source": [
    "resp.find_holds()\n",
    "resp.holds[:10]"
   ]
  },
  {
   "cell_type": "markdown",
   "metadata": {},
   "source": [
    "Below, we plot the first four holds for illustrative purposes:"
   ]
  },
  {
   "cell_type": "code",
   "execution_count": null,
   "metadata": {},
   "outputs": [],
   "source": [
    "fig, axs = plt.subplots(2, 2, figsize=(15, 10))\n",
    "\n",
    "mar = 5\n",
    "for i, ax in enumerate(axs.flatten()):\n",
    "    hold = resp.holds[i]\n",
    "    ax.plot(resp.t, resp.samples, color='grey')\n",
    "    ax.axvspan(hold.start_time, hold.end_time, alpha=0.3)\n",
    "    ax.set_xlim(hold.end_time - mar, hold.end_time + mar)"
   ]
  },
  {
   "cell_type": "markdown",
   "metadata": {},
   "source": [
    "## Range estimation"
   ]
  },
  {
   "cell_type": "markdown",
   "metadata": {},
   "source": [
    "Respiratory range is estimated in terms of the bottom and top percentiles of peak and trough respiratory values. By default, the 5th and 95 percentiles are used. In other words, the bottom- and top-most 5 per cent of peaks and troughs are discarded."
   ]
  },
  {
   "cell_type": "code",
   "execution_count": null,
   "metadata": {},
   "outputs": [],
   "source": [
    "resp.estimate_range()\n",
    "\n",
    "plt.plot(resp.samples, color='lightgrey')\n",
    "plt.axhline(resp.range_bot, linestyle='dashed')\n",
    "plt.axhline(resp.range_top, linestyle='dashed')"
   ]
  },
  {
   "cell_type": "markdown",
   "metadata": {},
   "source": [
    "## REL estimation"
   ]
  },
  {
   "cell_type": "markdown",
   "metadata": {},
   "source": [
    "Resting expiratory level(REL) is the state of equilibrium when the expiratory elasticity forces equal the the inhalatory elasticity forces. It also the point within the total lung capacity where speakers are most likely to inhale as speaking at lung volumes below REL is generally felt to be quite uncomfortable.\n",
    "\n",
    "RespInPeace offers two ways of estimating REL. By default, it will use a *static* REL value calculated as the median of all respiratory troughs. REL is quite sensitive to posture shifts and if the subject did not stand perfectly still, might fluctuate in the course of a recording. In order to neutralize the effect this drift, REL needs to be estimated in a more dynamic way. RestInPeace estimates REL by calculating the median level of all troughs in a window of specified size (by default, `win_len=11`, i.e. REL is calcualte as the median level of five preceding and five following troughs)."
   ]
  },
  {
   "cell_type": "code",
   "execution_count": null,
   "metadata": {},
   "outputs": [],
   "source": [
    "resp.estimate_rel(dynamic=True, win_len=11)\n",
    "\n",
    "plt.plot(resp.t, resp.samples, color='lightgrey')\n",
    "plt.axhline(y=0)"
   ]
  },
  {
   "cell_type": "code",
   "execution_count": null,
   "metadata": {},
   "outputs": [],
   "source": [
    "plt.plot(resp.t, resp.samples, color='lightgrey')\n",
    "plt.axhline(y=0)\n",
    "plt.xlim(30, 200)"
   ]
  },
  {
   "cell_type": "markdown",
   "metadata": {},
   "source": [
    "## Feature extraction"
   ]
  },
  {
   "cell_type": "markdown",
   "metadata": {},
   "source": [
    "RespInPeace can be used to extract a number of respiratory features from a selected interval or sample, such as amplitude (`extract_amplitude`) and slope (`extract_slope`). These features can be calculated  either relative to the estimated respiratory range (`norm=True`, the default) or raw (`norm=False`). In addition, `extract_features` can be used to extract all the implemeneted features.\n",
    "\n",
    "Below, we demonstrate extraction of features from the first inhalation in the file:"
   ]
  },
  {
   "cell_type": "code",
   "execution_count": null,
   "metadata": {},
   "outputs": [],
   "source": [
    "inh = resp.inhalations[0]\n",
    "resp.extract_features(inh.start_time, inh.end_time, norm=True)"
   ]
  },
  {
   "cell_type": "markdown",
   "metadata": {},
   "source": [
    "More complex examples of feature extraction can be found in [scripts/](../scripts)."
   ]
  },
  {
   "cell_type": "markdown",
   "metadata": {},
   "source": [
    "## Writing to files"
   ]
  },
  {
   "cell_type": "markdown",
   "metadata": {},
   "source": [
    "### Respiratory data"
   ]
  },
  {
   "cell_type": "markdown",
   "metadata": {},
   "source": [
    "The respiratory signal can be save to a file with the `save_resp` method. By default, the data is saved to a WAV file."
   ]
  },
  {
   "cell_type": "code",
   "execution_count": null,
   "metadata": {},
   "outputs": [],
   "source": [
    "resp.save_resp('resp_saved.wav')"
   ]
  },
  {
   "cell_type": "markdown",
   "metadata": {},
   "source": [
    "Alternatively, the data can be saved to a CSV file by passing a `filetype=\"table\"` argument to `save_resp`. See the documentation for more details."
   ]
  },
  {
   "cell_type": "markdown",
   "metadata": {},
   "source": [
    "### Annotations"
   ]
  },
  {
   "cell_type": "markdown",
   "metadata": {},
   "source": [
    "The annotations (inhalation, exhalation and hold boundaries) can be saved to a file with the `save_annotations` method. By default, they are saved to a [PRAAT](http://www.fon.hum.uva.nl/praat/) TextGrid files (the so-called short format). Other supported formats are `\"eaf\"` (for [ELAN](https://tla.mpi.nl/tools/tla-tools/elan/) EAF XML-based format) and `\"table\"` for a CSV (comma-separated) file. The tiers to save can be specified using the `tiers` argument to `save_annotations`."
   ]
  },
  {
   "cell_type": "code",
   "execution_count": null,
   "metadata": {},
   "outputs": [],
   "source": [
    "resp.save_annotations('resp.TextGrid', tiers=['cycles', 'holds'])"
   ]
  },
  {
   "cell_type": "markdown",
   "metadata": {},
   "source": [
    "If `merge_holds` is True, the holds are merged with the respiratory segmentation. In that case, the holds tier is not included in the output."
   ]
  }
 ],
 "metadata": {
  "kernelspec": {
   "display_name": "Python 3",
   "language": "python",
   "name": "python3"
  },
  "language_info": {
   "codemirror_mode": {
    "name": "ipython",
    "version": 3
   },
   "file_extension": ".py",
   "mimetype": "text/x-python",
   "name": "python",
   "nbconvert_exporter": "python",
   "pygments_lexer": "ipython3",
   "version": "3.7.3"
  }
 },
 "nbformat": 4,
 "nbformat_minor": 2
}
